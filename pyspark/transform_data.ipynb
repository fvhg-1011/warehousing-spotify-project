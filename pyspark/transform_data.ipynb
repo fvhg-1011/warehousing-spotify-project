{
 "cells": [
  {
   "cell_type": "code",
   "execution_count": 27,
   "id": "db372b8d-4e16-407b-aa48-47985877d238",
   "metadata": {},
   "outputs": [],
   "source": [
    "from dotenv import load_dotenv\n",
    "import os\n",
    "\n",
    "# variable_loads\n",
    "load_dotenv()\n",
    "\n",
    "# Set AWS credentials dari file .env\n",
    "aws_access_key_id = os.getenv('AWS_ACCESS_KEY_ID')\n",
    "aws_secret_access_key = os.getenv('AWS_SECRET_ACCESS_KEY')\n",
    "hadoop_aws_jar = os.getenv('hadoop_aws_jar')\n",
    "aws_sdk_jar = os.getenv('aws_sdk_jar')"
   ]
  },
  {
   "cell_type": "code",
   "execution_count": 38,
   "id": "11b6ab91-14fc-451c-9b74-cd0739fba1f9",
   "metadata": {},
   "outputs": [],
   "source": [
    "# Cell 3: Create Spark Session with AWS S3 Configuration and JARs\n",
    "from pyspark.sql import SparkSession\n",
    "from pyspark.sql.functions import col, lower, mean,when\n",
    "\n",
    "# Paths to the required JAR files\n",
    "hadoop_aws_jar = \"./hadoop-aws-3.3.1.jar\"\n",
    "aws_sdk_jar = \"./aws-java-sdk-bundle-1.11.901.jar\"\n",
    "\n",
    "# Create Spark session with the JARs and AWS S3 configuration\n",
    "spark = SparkSession.builder \\\n",
    "    .appName(\"Spotify Data Transformation\") \\\n",
    "    .config(\"spark.driver.extraClassPath\", f\"{hadoop_aws_jar}:{aws_sdk_jar}\") \\\n",
    "    .config(\"spark.executor.extraClassPath\", f\"{hadoop_aws_jar}:{aws_sdk_jar}\") \\\n",
    "    .config(\"spark.hadoop.fs.s3a.impl\", \"org.apache.hadoop.fs.s3a.S3AFileSystem\") \\\n",
    "    .config(\"spark.hadoop.fs.s3a.awsAccessKeyId\", aws_access_key_id) \\\n",
    "    .config(\"spark.hadoop.fs.s3a.awsSecretAccessKey\", aws_secret_access_key) \\\n",
    "    .getOrCreate()\n"
   ]
  },
  {
   "cell_type": "code",
   "execution_count": 29,
   "id": "445c8c65-89b0-4808-b55c-87b01071e2a4",
   "metadata": {},
   "outputs": [
    {
     "name": "stdout",
     "output_type": "stream",
     "text": [
      "+--------------------+--------------------+----------------+----------------+--------------------+--------------------+------------------------+-------------+--------------------+--------------+-----------------+------------+------+---+--------+----+-----------+------------+----------------+--------+-------+-------+-----------+\n",
      "|            track_id|          track_name|    track_artist|track_popularity|      track_album_id|    track_album_name|track_album_release_date|playlist_name|         playlist_id|playlist_genre|playlist_subgenre|danceability|energy|key|loudness|mode|speechiness|acousticness|instrumentalness|liveness|valence|  tempo|duration_ms|\n",
      "+--------------------+--------------------+----------------+----------------+--------------------+--------------------+------------------------+-------------+--------------------+--------------+-----------------+------------+------+---+--------+----+-----------+------------+----------------+--------+-------+-------+-----------+\n",
      "|6f807x0ima9a1j3VP...|I Don't Care (wit...|      Ed Sheeran|              66|2oCs0DGTsRO98Gh5Z...|I Don't Care (wit...|              2019-06-14|    Pop Remix|37i9dQZF1DXcZDD7c...|           pop|        dance pop|       0.748| 0.916|  6|  -2.634|   1|     0.0583|       0.102|             0.0|  0.0653|  0.518|122.036|   194754.0|\n",
      "|0r7CVbZTWZgbTCYdf...|Memories - Dillon...|        Maroon 5|              67|63rPSO264uRjW1X5E...|Memories (Dillon ...|              2019-12-13|    Pop Remix|37i9dQZF1DXcZDD7c...|           pop|        dance pop|       0.726| 0.815| 11|  -4.969|   1|     0.0373|      0.0724|         0.00421|   0.357|  0.693| 99.972|   162600.0|\n",
      "|1z1Hg7Vb0AhHDiEmn...|All the Time - Do...|    Zara Larsson|              70|1HoSmj2eLcsrR0vE9...|All the Time (Don...|              2019-07-05|    Pop Remix|37i9dQZF1DXcZDD7c...|           pop|        dance pop|       0.675| 0.931|  1|  -3.432|   0|     0.0742|      0.0794|         2.33E-5|    0.11|  0.613|124.008|   176616.0|\n",
      "|75FpbthrwQmzHlBJL...|Call You Mine - K...|The Chainsmokers|              60|1nqYsOef1yKKuGOVc...|Call You Mine - T...|              2019-07-19|    Pop Remix|37i9dQZF1DXcZDD7c...|           pop|        dance pop|       0.718|  0.93|  7|  -3.778|   1|      0.102|      0.0287|         9.43E-6|   0.204|  0.277|121.956|   169093.0|\n",
      "|1e8PAfcKUYoKkxPhr...|Someone You Loved...|   Lewis Capaldi|              69|7m7vv9wlQ4i0LFuJi...|Someone You Loved...|              2019-03-05|    Pop Remix|37i9dQZF1DXcZDD7c...|           pop|        dance pop|        0.65| 0.833|  1|  -4.672|   1|     0.0359|      0.0803|             0.0|  0.0833|  0.725|123.976|   189052.0|\n",
      "+--------------------+--------------------+----------------+----------------+--------------------+--------------------+------------------------+-------------+--------------------+--------------+-----------------+------------+------+---+--------+----+-----------+------------+----------------+--------+-------+-------+-----------+\n",
      "only showing top 5 rows\n",
      "\n"
     ]
    }
   ],
   "source": [
    "input_path = \"s3a://intermediary-bucket-house/spotify_songs/spotify_songs.csv\"\n",
    "df = spark.read.csv(input_path, header=True, inferSchema=True)\n",
    "df.show(5)  # test if it connect to s3 or not"
   ]
  },
  {
   "cell_type": "code",
   "execution_count": 30,
   "id": "8dd6bd58-578f-412f-9eec-1b0e03d965b5",
   "metadata": {},
   "outputs": [
    {
     "name": "stdout",
     "output_type": "stream",
     "text": [
      "(32833, 23)\n"
     ]
    }
   ],
   "source": [
    "# total row and dataset\n",
    "print((df.count(), len(df.columns)))"
   ]
  },
  {
   "cell_type": "code",
   "execution_count": 31,
   "id": "ab7de348-fb3d-4f75-b1e4-cac05cbbfa79",
   "metadata": {},
   "outputs": [
    {
     "name": "stdout",
     "output_type": "stream",
     "text": [
      "<class 'pandas.core.frame.DataFrame'>\n",
      "RangeIndex: 32833 entries, 0 to 32832\n",
      "Data columns (total 23 columns):\n",
      " #   Column                    Non-Null Count  Dtype  \n",
      "---  ------                    --------------  -----  \n",
      " 0   track_id                  32833 non-null  object \n",
      " 1   track_name                32833 non-null  object \n",
      " 2   track_artist              32833 non-null  object \n",
      " 3   track_popularity          32833 non-null  int32  \n",
      " 4   track_album_id            32833 non-null  object \n",
      " 5   track_album_name          32833 non-null  object \n",
      " 6   track_album_release_date  32833 non-null  object \n",
      " 7   playlist_name             32833 non-null  object \n",
      " 8   playlist_id               32833 non-null  object \n",
      " 9   playlist_genre            32833 non-null  object \n",
      " 10  playlist_subgenre         32833 non-null  object \n",
      " 11  danceability              32833 non-null  object \n",
      " 12  energy                    32833 non-null  object \n",
      " 13  key                       32833 non-null  object \n",
      " 14  loudness                  32833 non-null  object \n",
      " 15  mode                      32833 non-null  object \n",
      " 16  speechiness               32833 non-null  float64\n",
      " 17  acousticness              32833 non-null  float64\n",
      " 18  instrumentalness          32833 non-null  float64\n",
      " 19  liveness                  32833 non-null  float64\n",
      " 20  valence                   32833 non-null  float64\n",
      " 21  tempo                     32833 non-null  float64\n",
      " 22  duration_ms               32833 non-null  float64\n",
      "dtypes: float64(7), int32(1), object(15)\n",
      "memory usage: 5.6+ MB\n"
     ]
    }
   ],
   "source": [
    "# !pip3 install pandas\n",
    "\n",
    "# total data in column\n",
    "# import pandas as pd\n",
    "\n",
    "df.toPandas().info()"
   ]
  },
  {
   "cell_type": "code",
   "execution_count": 32,
   "id": "8ea96a2f-3620-44a5-95f0-15d47517176e",
   "metadata": {},
   "outputs": [
    {
     "data": {
      "text/plain": [
       "track_id                    0\n",
       "track_name                  0\n",
       "track_artist                0\n",
       "track_popularity            0\n",
       "track_album_id              0\n",
       "track_album_name            0\n",
       "track_album_release_date    0\n",
       "playlist_name               0\n",
       "playlist_id                 0\n",
       "playlist_genre              0\n",
       "playlist_subgenre           0\n",
       "danceability                0\n",
       "energy                      0\n",
       "key                         0\n",
       "loudness                    0\n",
       "mode                        0\n",
       "speechiness                 0\n",
       "acousticness                0\n",
       "instrumentalness            0\n",
       "liveness                    0\n",
       "valence                     0\n",
       "tempo                       0\n",
       "duration_ms                 0\n",
       "dtype: int64"
      ]
     },
     "execution_count": 32,
     "metadata": {},
     "output_type": "execute_result"
    }
   ],
   "source": [
    "# checking if data is empty or not\n",
    "df.toPandas().isna().sum().sort_values(ascending=False)"
   ]
  },
  {
   "cell_type": "code",
   "execution_count": 33,
   "id": "7bb8e2f8-9cf6-4a79-bf3a-1d1b8c876d6e",
   "metadata": {},
   "outputs": [
    {
     "name": "stdout",
     "output_type": "stream",
     "text": [
      "Unique values in track_id: 28356\n",
      "Unique values in track_name: 23450\n",
      "Unique values in track_artist: 10693\n",
      "Unique values in track_popularity: 101\n",
      "Unique values in track_album_id: 22545\n",
      "Unique values in track_album_name: 19744\n",
      "Unique values in track_album_release_date: 4531\n",
      "Unique values in playlist_name: 451\n",
      "Unique values in playlist_id: 479\n",
      "Unique values in playlist_genre: 14\n",
      "Unique values in playlist_subgenre: 27\n",
      "Unique values in danceability: 827\n",
      "Unique values in energy: 953\n",
      "Unique values in key: 23\n",
      "Unique values in loudness: 10223\n",
      "Unique values in mode: 13\n",
      "Unique values in speechiness: 1271\n",
      "Unique values in acousticness: 3731\n",
      "Unique values in instrumentalness: 4729\n",
      "Unique values in liveness: 1629\n",
      "Unique values in valence: 1364\n",
      "Unique values in tempo: 17689\n",
      "Unique values in duration_ms: 19790\n"
     ]
    }
   ],
   "source": [
    "# counting unique value\n",
    "for column in df.columns:\n",
    "    unique_count = df.select(column).distinct().count()\n",
    "    print(f\"Unique values in {column}: {unique_count}\")"
   ]
  },
  {
   "cell_type": "code",
   "execution_count": 76,
   "id": "59eea82a-26e9-4a0e-8b8f-6f2970d56705",
   "metadata": {},
   "outputs": [
    {
     "name": "stderr",
     "output_type": "stream",
     "text": [
      "                                                                                \r"
     ]
    },
    {
     "name": "stdout",
     "output_type": "stream",
     "text": [
      "Df doesn't contain duplicates: True\n"
     ]
    },
    {
     "name": "stderr",
     "output_type": "stream",
     "text": [
      "                                                                                \r"
     ]
    }
   ],
   "source": [
    "# check if there are  duplicates or no\n",
    "\n",
    "total_rows = df.count()\n",
    "unique_rows = df.distinct().count()\n",
    "\n",
    "duplicates = total_rows == unique_rows\n",
    "\n",
    "print(f\"Df doesn't contain duplicates: {duplicates}\")"
   ]
  },
  {
   "cell_type": "code",
   "execution_count": 13,
   "id": "ec980b54-a187-4808-b398-1360fab9d7a7",
   "metadata": {},
   "outputs": [],
   "source": [
    "# Because there is no such thing duplicates and no empy dataset is actually good"
   ]
  },
  {
   "cell_type": "code",
   "execution_count": 35,
   "id": "7a4b0e3d-bf53-47d1-8d4a-c96ebdf033a5",
   "metadata": {},
   "outputs": [
    {
     "name": "stdout",
     "output_type": "stream",
     "text": [
      "track_id: string\n",
      "track_name: string\n",
      "track_artist: string\n",
      "track_popularity: int\n",
      "track_album_id: string\n",
      "track_album_name: string\n",
      "track_album_release_date: string\n",
      "playlist_name: string\n",
      "playlist_id: string\n",
      "playlist_genre: string\n",
      "playlist_subgenre: string\n",
      "danceability: string\n",
      "energy: string\n",
      "key: string\n",
      "loudness: string\n",
      "mode: string\n",
      "speechiness: double\n",
      "acousticness: double\n",
      "instrumentalness: double\n",
      "liveness: double\n",
      "valence: double\n",
      "tempo: double\n",
      "duration_ms: double\n"
     ]
    }
   ],
   "source": [
    "# check type data in dataframe\n",
    "columns_types = df.dtypes\n",
    "\n",
    "for column, dtype in columns_types:\n",
    "    print(f\"{column}: {dtype}\")"
   ]
  },
  {
   "cell_type": "code",
   "execution_count": 36,
   "id": "06194a10-6dd9-4f5f-bca5-6a294d6cbedf",
   "metadata": {},
   "outputs": [
    {
     "name": "stdout",
     "output_type": "stream",
     "text": [
      "+------------------+-------------------+\n",
      "|album_release_year|album_release_month|\n",
      "+------------------+-------------------+\n",
      "|              2019|                  6|\n",
      "|              2019|                 12|\n",
      "|              2019|                  7|\n",
      "|              2019|                  7|\n",
      "|              2019|                  3|\n",
      "+------------------+-------------------+\n",
      "only showing top 5 rows\n",
      "\n"
     ]
    }
   ],
   "source": [
    "# transform track_album_release_date  into year and month\n",
    "from pyspark.sql.functions import year,month\n",
    "# year\n",
    "df = df.withColumn('album_release_year', year(df['track_album_release_date']))\n",
    "# # month\n",
    "df = df.withColumn('album_release_month', month(df['track_album_release_date']))\n",
    "# show df\n",
    "df.select('album_release_year', 'album_release_month').show(5)"
   ]
  },
  {
   "cell_type": "code",
   "execution_count": 39,
   "id": "ae336bc8-646a-44bc-a786-2e010b863f82",
   "metadata": {},
   "outputs": [],
   "source": [
    "# filling invalid value with 0\n",
    "df = df.withColumn(\"album_release_year\", when(col(\"album_release_year\").cast(\"int\").isNotNull(), col(\"album_release_year\")).otherwise(0))"
   ]
  },
  {
   "cell_type": "code",
   "execution_count": 41,
   "id": "4d2b40b2-dd62-41ae-8071-be1e58b974bf",
   "metadata": {},
   "outputs": [],
   "source": [
    "# invalid fformating fix\n",
    "from pyspark.sql.functions import regexp_replace\n",
    "df = df.withColumn(\"track_name\", regexp_replace(\"track_name\", '\"', ''))"
   ]
  },
  {
   "cell_type": "code",
   "execution_count": 47,
   "id": "b48aed91-cd8a-47ab-92b2-929b9d396d7b",
   "metadata": {},
   "outputs": [],
   "source": [
    "# invalid formatting fix\n",
    "df = df.withColumn(\"track_album_name\", regexp_replace(\"track_album_name\", '\"', ''))"
   ]
  },
  {
   "cell_type": "code",
   "execution_count": 51,
   "id": "d71a4c46-bdf5-48bf-9c42-3a8c6c95420a",
   "metadata": {},
   "outputs": [],
   "source": [
    "# invalid formatting fix\n",
    "df = df.withColumn(\"track_artist\", regexp_replace(\"track_artist\", '\"', ''))"
   ]
  },
  {
   "cell_type": "code",
   "execution_count": 54,
   "id": "fe3e6206-4852-4d63-8084-a2d0d93043df",
   "metadata": {},
   "outputs": [],
   "source": [
    "# Invalid digit, Value 'i', Pos 0, Type: Double\n",
    "df = df.withColumn(\"danceability\", when(col(\"danceability\").cast(\"double\").isNotNull(), col(\"danceability\")).otherwise(None))"
   ]
  },
  {
   "cell_type": "code",
   "execution_count": 58,
   "id": "14d87bec-75e4-4296-8e79-d693dbe408d9",
   "metadata": {},
   "outputs": [],
   "source": [
    "# invalid formatting fix\n",
    "df = df.withColumn(\"playlist_name\", regexp_replace(\"playlist_name\", '\"', ''))"
   ]
  },
  {
   "cell_type": "code",
   "execution_count": 70,
   "id": "d3766211-47a3-41aa-9450-8fa87a19a510",
   "metadata": {},
   "outputs": [],
   "source": [
    "# invalid formatting fix\n",
    "df = df.withColumn(\"playlist_subgenre\", regexp_replace(\"playlist_subgenre\", '\"', ''))"
   ]
  },
  {
   "cell_type": "code",
   "execution_count": 62,
   "id": "f82e998a-8006-4748-aa9a-edfdb956fc4d",
   "metadata": {},
   "outputs": [
    {
     "name": "stdout",
     "output_type": "stream",
     "text": [
      "+--------------------+--------------------+----------------+----------------+--------------------+--------------------+-------------+--------------------+--------------+-----------------+------------+------+---+--------+----+-----------+------------+----------------+--------+-------+-------+-----------+------------------+-------------------+\n",
      "|            track_id|          track_name|    track_artist|track_popularity|      track_album_id|    track_album_name|playlist_name|         playlist_id|playlist_genre|playlist_subgenre|danceability|energy|key|loudness|mode|speechiness|acousticness|instrumentalness|liveness|valence|  tempo|duration_ms|album_release_year|album_release_month|\n",
      "+--------------------+--------------------+----------------+----------------+--------------------+--------------------+-------------+--------------------+--------------+-----------------+------------+------+---+--------+----+-----------+------------+----------------+--------+-------+-------+-----------+------------------+-------------------+\n",
      "|6f807x0ima9a1j3VP...|I Don't Care (wit...|      Ed Sheeran|              66|2oCs0DGTsRO98Gh5Z...|I Don't Care (wit...|    Pop Remix|37i9dQZF1DXcZDD7c...|           pop|        dance pop|       0.748| 0.916|  6|  -2.634|   1|     0.0583|       0.102|             0.0|  0.0653|  0.518|122.036|   194754.0|              2019|                  6|\n",
      "|0r7CVbZTWZgbTCYdf...|Memories - Dillon...|        Maroon 5|              67|63rPSO264uRjW1X5E...|Memories (Dillon ...|    Pop Remix|37i9dQZF1DXcZDD7c...|           pop|        dance pop|       0.726| 0.815| 11|  -4.969|   1|     0.0373|      0.0724|         0.00421|   0.357|  0.693| 99.972|   162600.0|              2019|                 12|\n",
      "|1z1Hg7Vb0AhHDiEmn...|All the Time - Do...|    Zara Larsson|              70|1HoSmj2eLcsrR0vE9...|All the Time (Don...|    Pop Remix|37i9dQZF1DXcZDD7c...|           pop|        dance pop|       0.675| 0.931|  1|  -3.432|   0|     0.0742|      0.0794|         2.33E-5|    0.11|  0.613|124.008|   176616.0|              2019|                  7|\n",
      "|75FpbthrwQmzHlBJL...|Call You Mine - K...|The Chainsmokers|              60|1nqYsOef1yKKuGOVc...|Call You Mine - T...|    Pop Remix|37i9dQZF1DXcZDD7c...|           pop|        dance pop|       0.718|  0.93|  7|  -3.778|   1|      0.102|      0.0287|         9.43E-6|   0.204|  0.277|121.956|   169093.0|              2019|                  7|\n",
      "|1e8PAfcKUYoKkxPhr...|Someone You Loved...|   Lewis Capaldi|              69|7m7vv9wlQ4i0LFuJi...|Someone You Loved...|    Pop Remix|37i9dQZF1DXcZDD7c...|           pop|        dance pop|        0.65| 0.833|  1|  -4.672|   1|     0.0359|      0.0803|             0.0|  0.0833|  0.725|123.976|   189052.0|              2019|                  3|\n",
      "+--------------------+--------------------+----------------+----------------+--------------------+--------------------+-------------+--------------------+--------------+-----------------+------------+------+---+--------+----+-----------+------------+----------------+--------+-------+-------+-----------+------------------+-------------------+\n",
      "only showing top 5 rows\n",
      "\n"
     ]
    }
   ],
   "source": [
    "df.show(5)"
   ]
  },
  {
   "cell_type": "code",
   "execution_count": 73,
   "id": "bcff939f-29d3-46ae-bd2b-64a842252ef1",
   "metadata": {},
   "outputs": [
    {
     "name": "stdout",
     "output_type": "stream",
     "text": [
      "+------------+------+---+--------+----+-----------+------------+\n",
      "|danceability|energy|key|loudness|mode|speechiness|acousticness|\n",
      "+------------+------+---+--------+----+-----------+------------+\n",
      "|       0.748| 0.916|  6|  -2.634|   1|     0.0583|       0.102|\n",
      "|       0.726| 0.815| 11|  -4.969|   1|     0.0373|      0.0724|\n",
      "|       0.675| 0.931|  1|  -3.432|   0|     0.0742|      0.0794|\n",
      "|       0.718|  0.93|  7|  -3.778|   1|      0.102|      0.0287|\n",
      "|        0.65| 0.833|  1|  -4.672|   1|     0.0359|      0.0803|\n",
      "+------------+------+---+--------+----+-----------+------------+\n",
      "only showing top 5 rows\n",
      "\n"
     ]
    }
   ],
   "source": [
    "df.select('danceability','energy','key','loudness','mode','speechiness','acousticness') \\\n",
    "  .show(5)"
   ]
  },
  {
   "cell_type": "code",
   "execution_count": 71,
   "id": "9d724fac-72a9-4d2c-aa40-cb69fb745a48",
   "metadata": {},
   "outputs": [
    {
     "name": "stdout",
     "output_type": "stream",
     "text": [
      "root\n",
      " |-- track_name: string (nullable = true)\n",
      " |-- track_artist: string (nullable = true)\n",
      " |-- track_popularity: integer (nullable = true)\n",
      " |-- track_album_name: string (nullable = true)\n",
      " |-- playlist_name: string (nullable = true)\n",
      " |-- playlist_genre: string (nullable = true)\n",
      " |-- playlist_subgenre: string (nullable = true)\n",
      " |-- danceability: string (nullable = true)\n",
      " |-- energy: string (nullable = true)\n",
      " |-- key: string (nullable = true)\n",
      " |-- loudness: string (nullable = true)\n",
      " |-- mode: string (nullable = true)\n",
      " |-- speechiness: double (nullable = true)\n",
      " |-- acousticness: double (nullable = true)\n",
      " |-- instrumentalness: double (nullable = true)\n",
      " |-- liveness: double (nullable = true)\n",
      " |-- valence: double (nullable = true)\n",
      " |-- tempo: double (nullable = true)\n",
      " |-- duration_ms: double (nullable = true)\n",
      " |-- album_release_year: integer (nullable = true)\n",
      " |-- album_release_month: integer (nullable = true)\n",
      "\n"
     ]
    }
   ],
   "source": [
    "# drop track_albume_release_date, track_id, track_album_id, playlist_id\n",
    "df = df.drop('track_album_release_date','track_id','track_album_id','playlist_id')\n",
    "df.printSchema()"
   ]
  },
  {
   "cell_type": "code",
   "execution_count": 69,
   "id": "416d269a-4de9-4259-990d-7a01d483450c",
   "metadata": {},
   "outputs": [
    {
     "name": "stdout",
     "output_type": "stream",
     "text": [
      "track_name: string\n",
      "track_artist: string\n",
      "track_popularity: int\n",
      "track_album_name: string\n",
      "playlist_name: string\n",
      "playlist_genre: string\n",
      "playlist_subgenre: string\n",
      "danceability: string\n",
      "energy: string\n",
      "key: string\n",
      "loudness: string\n",
      "mode: string\n",
      "speechiness: double\n",
      "acousticness: double\n",
      "instrumentalness: double\n",
      "liveness: double\n",
      "valence: double\n",
      "tempo: double\n",
      "duration_ms: double\n",
      "album_release_year: int\n",
      "album_release_month: int\n"
     ]
    }
   ],
   "source": [
    "# check type data in dataframe\n",
    "columns_types = df.dtypes\n",
    "\n",
    "for column, dtype in columns_types:\n",
    "    print(f\"{column}: {dtype}\")"
   ]
  },
  {
   "cell_type": "code",
   "execution_count": 78,
   "id": "f6b3bde4-4f92-41ad-a138-bef9ecc4902e",
   "metadata": {},
   "outputs": [
    {
     "name": "stderr",
     "output_type": "stream",
     "text": [
      "                                                                                \r"
     ]
    },
    {
     "name": "stdout",
     "output_type": "stream",
     "text": [
      "<class 'pandas.core.frame.DataFrame'>\n",
      "RangeIndex: 32833 entries, 0 to 32832\n",
      "Data columns (total 21 columns):\n",
      " #   Column               Non-Null Count  Dtype  \n",
      "---  ------               --------------  -----  \n",
      " 0   track_name           32833 non-null  object \n",
      " 1   track_artist         32833 non-null  object \n",
      " 2   track_popularity     32833 non-null  int32  \n",
      " 3   track_album_name     32833 non-null  object \n",
      " 4   playlist_name        32833 non-null  object \n",
      " 5   playlist_genre       32833 non-null  object \n",
      " 6   playlist_subgenre    32833 non-null  object \n",
      " 7   danceability         32821 non-null  object \n",
      " 8   energy               32833 non-null  object \n",
      " 9   key                  32833 non-null  object \n",
      " 10  loudness             32833 non-null  object \n",
      " 11  mode                 32833 non-null  object \n",
      " 12  speechiness          32833 non-null  float64\n",
      " 13  acousticness         32833 non-null  float64\n",
      " 14  instrumentalness     32833 non-null  float64\n",
      " 15  liveness             32833 non-null  float64\n",
      " 16  valence              32833 non-null  float64\n",
      " 17  tempo                32833 non-null  float64\n",
      " 18  duration_ms          32833 non-null  float64\n",
      " 19  album_release_year   32833 non-null  int32  \n",
      " 20  album_release_month  32821 non-null  float64\n",
      "dtypes: float64(8), int32(2), object(11)\n",
      "memory usage: 5.0+ MB\n"
     ]
    }
   ],
   "source": [
    "df.toPandas().info()"
   ]
  },
  {
   "cell_type": "code",
   "execution_count": 72,
   "id": "f122e39f-16ee-44e8-b807-887157c5871a",
   "metadata": {},
   "outputs": [
    {
     "name": "stderr",
     "output_type": "stream",
     "text": [
      "24/07/13 11:32:18 WARN AbstractS3ACommitterFactory: Using standard FileOutputCommitter to commit work. This is slow and potentially unsafe.\n",
      "24/07/13 11:32:18 WARN AbstractS3ACommitterFactory: Using standard FileOutputCommitter to commit work. This is slow and potentially unsafe.\n",
      "                                                                                \r"
     ]
    }
   ],
   "source": [
    "# upload new csv back to s3 using pyspark\n",
    "\n",
    "df = df.coalesce(1)\n",
    "output_path = \"s3a://intermediary-bucket-house/spotify_songs_transformed\"\n",
    "df.write.csv(output_path, header=True, mode='overwrite')"
   ]
  },
  {
   "cell_type": "code",
   "execution_count": 39,
   "id": "a8c8725a-ac30-45ed-8376-b4fe8467c35f",
   "metadata": {},
   "outputs": [
    {
     "name": "stderr",
     "output_type": "stream",
     "text": [
      "                                                                                \r"
     ]
    }
   ],
   "source": [
    "# upload using pandas\n",
    "import boto3\n",
    "\n",
    "pandas_df = df.toPandas()\n",
    "\n",
    "output_path = \"spotify_songs_transformed.csv\"\n",
    "pandas_df.to_csv(output_path, index=False)\n",
    "\n",
    "s3 = boto3.client('s3', region_name='ap-southeast-3')\n",
    "bucket_name = 'intermediary-bucket-house'\n",
    "s3_path = 'spotify_songs_transformed.csv'\n",
    "\n",
    "s3.upload_file(output_path, bucket_name, s3_path)"
   ]
  }
 ],
 "metadata": {
  "kernelspec": {
   "display_name": "Python 3 (ipykernel)",
   "language": "python",
   "name": "python3"
  },
  "language_info": {
   "codemirror_mode": {
    "name": "ipython",
    "version": 3
   },
   "file_extension": ".py",
   "mimetype": "text/x-python",
   "name": "python",
   "nbconvert_exporter": "python",
   "pygments_lexer": "ipython3",
   "version": "3.10.12"
  }
 },
 "nbformat": 4,
 "nbformat_minor": 5
}
